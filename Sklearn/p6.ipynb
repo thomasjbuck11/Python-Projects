{
 "cells": [
  {
   "cell_type": "code",
   "execution_count": 1,
   "id": "11e773ac",
   "metadata": {},
   "outputs": [],
   "source": [
    "# project: p6\n",
    "# submitter: tjbuck\n",
    "# partner: none\n",
    "# hours: 20"
   ]
  },
  {
   "cell_type": "code",
   "execution_count": 2,
   "id": "9064345d",
   "metadata": {},
   "outputs": [],
   "source": [
    "import pandas as pd\n",
    "import geopandas as gpd\n",
    "import matplotlib.pyplot as plt\n",
    "import sqlite3\n",
    "from sklearn.model_selection import train_test_split, cross_val_score\n",
    "from sklearn.linear_model import LinearRegression\n",
    "from sklearn.pipeline import Pipeline\n",
    "from sklearn.compose import make_column_transformer\n",
    "from sklearn.preprocessing import PolynomialFeatures, OneHotEncoder\n",
    "import numpy as np\n",
    "import rasterio\n",
    "from rasterio.mask import mask\n",
    "plt.rcParams[\"font.size\"] = 14"
   ]
  },
  {
   "cell_type": "code",
   "execution_count": 3,
   "id": "c5c2bb0b",
   "metadata": {},
   "outputs": [
    {
     "data": {
      "text/plain": [
       "72"
      ]
     },
     "execution_count": 3,
     "metadata": {},
     "output_type": "execute_result"
    }
   ],
   "source": [
    "#Q1: How many counties are in Wisconsin?\n",
    "\n",
    "counties = gpd.read_file(\"counties.geojson\")\n",
    "len(counties)"
   ]
  },
  {
   "cell_type": "code",
   "execution_count": 4,
   "id": "8d4dbbc2",
   "metadata": {},
   "outputs": [
    {
     "data": {
      "text/plain": [
       "<AxesSubplot:>"
      ]
     },
     "execution_count": 4,
     "metadata": {},
     "output_type": "execute_result"
    },
    {
     "data": {
      "image/png": "[encoded data removed]",
      "text/plain": [
       "<Figure size 432x288 with 2 Axes>"
      ]
     },
     "metadata": {
      "needs_background": "light"
     },
     "output_type": "display_data"
    }
   ],
   "source": [
    "#Q2: What is the population of each county in WI?\n",
    "\n",
    "counties.plot(column = \"POP100\", legend = True)"
   ]
  },
  {
   "cell_type": "code",
   "execution_count": 5,
   "id": "4ad5f908",
   "metadata": {},
   "outputs": [],
   "source": [
    "conn = sqlite3.connect(\"counties_tracts.db\")\n",
    "arealand = pd.read_sql(\"\"\"SELECT * FROM counties\"\"\", conn)\n",
    "counties[\"AREALAND\"] = arealand[\"AREALAND\"]\n",
    "train, test = train_test_split(counties, random_state=320, test_size=0.25)"
   ]
  },
  {
   "cell_type": "code",
   "execution_count": 6,
   "id": "adaf6cd6",
   "metadata": {},
   "outputs": [
    {
     "data": {
      "text/plain": [
       "['Kewaunee County',\n",
       " 'Calumet County',\n",
       " 'Adams County',\n",
       " 'Eau Claire County',\n",
       " 'Milwaukee County',\n",
       " 'Ashland County',\n",
       " 'Wood County',\n",
       " 'Dodge County',\n",
       " 'Sauk County',\n",
       " 'Clark County',\n",
       " 'Pepin County',\n",
       " 'Taylor County',\n",
       " 'Iron County',\n",
       " 'Outagamie County',\n",
       " 'Florence County',\n",
       " 'Oneida County',\n",
       " 'Pierce County',\n",
       " 'Grant County']"
      ]
     },
     "execution_count": 6,
     "metadata": {},
     "output_type": "execute_result"
    }
   ],
   "source": [
    "#Q3: What are the counties in the test dataset?\n",
    "\n",
    "list(test[\"NAME\"])"
   ]
  },
  {
   "cell_type": "code",
   "execution_count": 7,
   "id": "cdbd4563",
   "metadata": {},
   "outputs": [
    {
     "data": {
      "text/plain": [
       "0.022002661530554857"
      ]
     },
     "execution_count": 7,
     "metadata": {},
     "output_type": "execute_result"
    }
   ],
   "source": [
    "#Q4: How much variance in the POP100 can a LinearRegression model explain based only on AREALAND?\n",
    "\n",
    "model = LinearRegression()\n",
    "model.fit(train[[\"AREALAND\"]], train[\"POP100\"])\n",
    "model.score(test[[\"AREALAND\"]], test[\"POP100\"])"
   ]
  },
  {
   "cell_type": "code",
   "execution_count": 8,
   "id": "3e1b66e4",
   "metadata": {},
   "outputs": [
    {
     "name": "stderr",
     "output_type": "stream",
     "text": [
      "/home/thoma/.local/lib/python3.8/site-packages/sklearn/base.py:493: FutureWarning: The feature names should match those that were passed during fit. Starting version 1.2, an error will be raised.\n",
      "Feature names unseen at fit time:\n",
      "- test\n",
      "Feature names seen at fit time, yet now missing:\n",
      "- AREALAND\n",
      "\n",
      "  warnings.warn(message, FutureWarning)\n"
     ]
    },
    {
     "data": {
      "text/plain": [
       "82032.53073541154"
      ]
     },
     "execution_count": 8,
     "metadata": {},
     "output_type": "execute_result"
    }
   ],
   "source": [
    "#Q5: What is the predicted population of a county with 500 square miles of area, according to the model?\n",
    "\n",
    "sqmiles = 500*2.59*1000000\n",
    "model.predict(pd.DataFrame({\"test\": [0, 1, sqmiles]}))[2]"
   ]
  },
  {
   "cell_type": "code",
   "execution_count": 9,
   "id": "a9e4e4a9",
   "metadata": {},
   "outputs": [],
   "source": [
    "hu100 = pd.read_sql(\"\"\"SELECT COUNTY, SUM(HU100) as HU100 FROM tracts GROUP BY COUNTY\"\"\", conn)\n",
    "hu100.to_sql(\"hu100\", conn, if_exists = \"replace\", index = False)\n",
    "final = pd.read_sql(\"\"\"SELECT * from counties INNER JOIN hu100 ON counties.COUNTY = hu100.COUNTY\"\"\", conn)\n",
    "counties[\"HU100\"] = final[\"HU100\"]\n",
    "train1, test1 = train_test_split(counties, random_state=320, test_size=0.25)"
   ]
  },
  {
   "cell_type": "code",
   "execution_count": 10,
   "id": "1f44b871",
   "metadata": {},
   "outputs": [
    {
     "data": {
      "text/plain": [
       "['Kewaunee County',\n",
       " 'Calumet County',\n",
       " 'Adams County',\n",
       " 'Eau Claire County',\n",
       " 'Milwaukee County',\n",
       " 'Ashland County',\n",
       " 'Wood County',\n",
       " 'Dodge County',\n",
       " 'Sauk County',\n",
       " 'Clark County',\n",
       " 'Pepin County',\n",
       " 'Taylor County',\n",
       " 'Iron County',\n",
       " 'Outagamie County',\n",
       " 'Florence County',\n",
       " 'Oneida County',\n",
       " 'Pierce County',\n",
       " 'Grant County']"
      ]
     },
     "execution_count": 10,
     "metadata": {},
     "output_type": "execute_result"
    }
   ],
   "source": [
    "#Q6: What are the counties in the test dataset?\n",
    "\n",
    "list(test1[\"NAME\"])"
   ]
  },
  {
   "cell_type": "code",
   "execution_count": 11,
   "id": "5114e43f",
   "metadata": {},
   "outputs": [
    {
     "data": {
      "text/plain": [
       "{'Walworth County': 51531,\n",
       " 'Marquette County': 9896,\n",
       " 'Racine County': 82164,\n",
       " 'Waupaca County': 25396,\n",
       " 'Lincoln County': 16784,\n",
       " 'Washburn County': 12979,\n",
       " 'Door County': 23966,\n",
       " 'Waukesha County': 160864,\n",
       " 'Sheboygan County': 50766,\n",
       " 'La Crosse County': 48402,\n",
       " 'Langlade County': 12360,\n",
       " 'Marathon County': 57734,\n",
       " 'Jefferson County': 35147,\n",
       " 'Price County': 11120,\n",
       " 'Vilas County': 25116,\n",
       " 'Columbia County': 26137,\n",
       " 'Ozaukee County': 36267,\n",
       " 'Fond du Lac County': 43910,\n",
       " 'Crawford County': 8802,\n",
       " 'Lafayette County': 7230,\n",
       " 'Green County': 15856,\n",
       " 'Marinette County': 30379,\n",
       " 'Vernon County': 13720,\n",
       " 'Douglas County': 22825,\n",
       " 'Rock County': 68422,\n",
       " 'Iowa County': 10719,\n",
       " 'Dane County': 216022,\n",
       " 'Bayfield County': 12999,\n",
       " 'Polk County': 24248,\n",
       " 'Trempealeau County': 12619,\n",
       " 'Brown County': 104371,\n",
       " 'Washington County': 54695,\n",
       " 'Chippewa County': 27185,\n",
       " 'Oconto County': 23537,\n",
       " 'Richland County': 8868,\n",
       " 'Portage County': 30054,\n",
       " 'Sawyer County': 15975,\n",
       " 'Menominee County': 2253,\n",
       " 'Barron County': 23614,\n",
       " 'Shawano County': 20720,\n",
       " 'Winnebago County': 73329,\n",
       " 'Rusk County': 8883,\n",
       " 'Manitowoc County': 37189,\n",
       " 'Dunn County': 17964,\n",
       " 'Monroe County': 19204,\n",
       " 'Waushara County': 14843,\n",
       " 'Forest County': 8970,\n",
       " 'Green Lake County': 10616,\n",
       " 'Juneau County': 14669,\n",
       " 'St. Croix County': 33983,\n",
       " 'Buffalo County': 6664,\n",
       " 'Kenosha County': 69288,\n",
       " 'Jackson County': 9727,\n",
       " 'Burnett County': 15278}"
      ]
     },
     "execution_count": 11,
     "metadata": {},
     "output_type": "execute_result"
    }
   ],
   "source": [
    "#Q7: What are the HU100 values for the counties in the train dataset?\n",
    "\n",
    "hu100_dict = {}\n",
    "for row in train1.itertuples():\n",
    "    hu100_dict[row.NAME] = row.HU100\n",
    "    \n",
    "hu100_dict"
   ]
  },
  {
   "cell_type": "code",
   "execution_count": 12,
   "id": "a215e757",
   "metadata": {},
   "outputs": [
    {
     "data": {
      "text/plain": [
       "0.9652534544116037"
      ]
     },
     "execution_count": 12,
     "metadata": {},
     "output_type": "execute_result"
    }
   ],
   "source": [
    "#Q8: How much variance in the POP100 can a LinearRegression model explain based only on HU100?\n",
    "\n",
    "m8 = LinearRegression()\n",
    "var8 = cross_val_score(m8,train1[[\"HU100\"]],train1[\"POP100\"], cv = 5)\n",
    "var8.mean()"
   ]
  },
  {
   "cell_type": "code",
   "execution_count": 13,
   "id": "26091048",
   "metadata": {},
   "outputs": [
    {
     "data": {
      "text/plain": [
       "0.03704265206670459"
      ]
     },
     "execution_count": 13,
     "metadata": {},
     "output_type": "execute_result"
    }
   ],
   "source": [
    "#Q9: What is the standard deviation of the cross validation scores from Q7?\n",
    "\n",
    "var8.std()"
   ]
  },
  {
   "cell_type": "code",
   "execution_count": 14,
   "id": "19f2540e",
   "metadata": {},
   "outputs": [
    {
     "data": {
      "text/plain": [
       "'POP100 = 2.39*HU100 + -7910.46'"
      ]
     },
     "execution_count": 14,
     "metadata": {},
     "output_type": "execute_result"
    }
   ],
   "source": [
    "#Q10: What is the formula relating POP100 and HU100?\n",
    "\n",
    "m8.fit(train1[[\"HU100\"]], train1[\"POP100\"])\n",
    "m8.score(test1[[\"HU100\"]], test1[\"POP100\"])\n",
    "f\"POP100 = {round(m8.coef_[0],2)}*HU100 + {round(m8.intercept_,2)}\""
   ]
  },
  {
   "cell_type": "code",
   "execution_count": 15,
   "id": "af0dd6cb",
   "metadata": {},
   "outputs": [
    {
     "data": {
      "text/plain": [
       "<matplotlib.legend.Legend at 0x7f1afabf5460>"
      ]
     },
     "execution_count": 15,
     "metadata": {},
     "output_type": "execute_result"
    },
    {
     "data": {
      "image/png": "[encoded data removed]",
      "text/plain": [
       "<Figure size 648x432 with 1 Axes>"
      ]
     },
     "metadata": {
      "needs_background": "light"
     },
     "output_type": "display_data"
    }
   ],
   "source": [
    "#Q11: What is the relationship between HU100 and POP100, visually?\n",
    "\n",
    "m = round(m8.coef_[0],2)\n",
    "y_int = round(m8.intercept_,2)\n",
    "x = int(counties[counties[\"NAME\"] == \"Dane County\"][\"HU100\"])\n",
    "y = int(counties[counties[\"NAME\"] == \"Dane County\"][\"POP100\"])\n",
    "fig,ax = plt.subplots(figsize = (9,6))\n",
    "counties.plot.scatter(ax = ax, x = \"HU100\", y = \"POP100\", label = \"Actual\")\n",
    "plt.plot(counties[\"HU100\"], m*counties[\"HU100\"] + y_int, color = \"red\", label = \"Predicted\")\n",
    "ax.text(x, y, \"Dane\", va=\"center\", ha=\"left\")\n",
    "ax.legend()"
   ]
  },
  {
   "cell_type": "code",
   "execution_count": 16,
   "id": "59ce953b",
   "metadata": {},
   "outputs": [
    {
     "data": {
      "text/plain": [
       "12"
      ]
     },
     "execution_count": 16,
     "metadata": {},
     "output_type": "execute_result"
    }
   ],
   "source": [
    "#Q12: How many numbers in matrix A are between 2 and 5 (inclusive)?\n",
    "\n",
    "A = np.array([\n",
    "    [0,0,5,8,4],\n",
    "    [1,2,4,0,3],\n",
    "    [2,4,0,9,2],\n",
    "    [3,5,2,1,1],\n",
    "    [0,5,0,1,0]\n",
    "])\n",
    "\n",
    "len(A[(A <= 5) & (A >= 2)])"
   ]
  },
  {
   "cell_type": "code",
   "execution_count": 17,
   "id": "c45d079b",
   "metadata": {},
   "outputs": [
    {
     "data": {
      "text/plain": [
       "<matplotlib.image.AxesImage at 0x7f1afaae3400>"
      ]
     },
     "execution_count": 17,
     "metadata": {},
     "output_type": "execute_result"
    },
    {
     "data": {
      "image/png": "[encoded data removed]",
      "text/plain": [
       "<Figure size 864x864 with 1 Axes>"
      ]
     },
     "metadata": {
      "needs_background": "light"
     },
     "output_type": "display_data"
    }
   ],
   "source": [
    "#Q13: How does Milwaukee County look?\n",
    "\n",
    "from matplotlib.colors import ListedColormap\n",
    "\n",
    "c = np.zeros((256,3))\n",
    "c[0] = [0.00000000000, 0.00000000000, 0.00000000000]\n",
    "c[11] = [0.27843137255, 0.41960784314, 0.62745098039]\n",
    "c[12] = [0.81960784314, 0.86666666667, 0.97647058824]\n",
    "c[21] = [0.86666666667, 0.78823529412, 0.78823529412]\n",
    "c[22] = [0.84705882353, 0.57647058824, 0.50980392157]\n",
    "c[23] = [0.92941176471, 0.00000000000, 0.00000000000]\n",
    "c[24] = [0.66666666667, 0.00000000000, 0.00000000000]\n",
    "c[31] = [0.69803921569, 0.67843137255, 0.63921568628]\n",
    "c[41] = [0.40784313726, 0.66666666667, 0.38823529412]\n",
    "c[42] = [0.10980392157, 0.38823529412, 0.18823529412]\n",
    "c[43] = [0.70980392157, 0.78823529412, 0.55686274510]\n",
    "c[51] = [0.64705882353, 0.54901960784, 0.18823529412]\n",
    "c[52] = [0.80000000000, 0.72941176471, 0.48627450980]\n",
    "c[71] = [0.88627450980, 0.88627450980, 0.75686274510]\n",
    "c[72] = [0.78823529412, 0.78823529412, 0.46666666667]\n",
    "c[73] = [0.60000000000, 0.75686274510, 0.27843137255]\n",
    "c[74] = [0.46666666667, 0.67843137255, 0.57647058824]\n",
    "c[81] = [0.85882352941, 0.84705882353, 0.23921568628]\n",
    "c[82] = [0.66666666667, 0.43921568628, 0.15686274510]\n",
    "c[90] = [0.72941176471, 0.84705882353, 0.91764705882]\n",
    "c[95] = [0.43921568628, 0.63921568628, 0.72941176471]\n",
    "custom_cmap = ListedColormap(c)\n",
    "\n",
    "land = rasterio.open(\"zip://../p6/land.zip!wi.tif\")\n",
    "mil = counties[counties[\"NAME\"] == \"Milwaukee County\"]\n",
    "matrix, _ = mask(land, mil.to_crs(land.crs)[\"geometry\"], crop=True)\n",
    "matrix = matrix[0]\n",
    "\n",
    "fig, ax = plt.subplots(figsize=(12,12))\n",
    "ax.imshow(matrix, vmin=0, vmax=255, cmap=custom_cmap)"
   ]
  },
  {
   "cell_type": "code",
   "execution_count": 18,
   "id": "5c424d5a",
   "metadata": {},
   "outputs": [
    {
     "data": {
      "text/plain": [
       "0.7963037455950543"
      ]
     },
     "execution_count": 18,
     "metadata": {},
     "output_type": "execute_result"
    }
   ],
   "source": [
    "#Q14: What portion of Milwaukee County is \"Open Water\"?\n",
    "\n",
    "total = matrix[matrix!=0]\n",
    "water = total[total == 11] \n",
    "len(water)/len(total)"
   ]
  },
  {
   "cell_type": "code",
   "execution_count": 19,
   "id": "927f35c7",
   "metadata": {},
   "outputs": [],
   "source": [
    "cellcount_lst = []\n",
    "for row in counties.itertuples():\n",
    "    matrix, _ = mask(land, counties[counties[\"NAME\"] == row.NAME].to_crs(land.crs)[\"geometry\"], crop=True)\n",
    "    matrix = matrix[0]\n",
    "    high = matrix[matrix == 24]\n",
    "    cellcount_lst.append(len(high))\n",
    "counties[\"High Developed Cells in County\"] = cellcount_lst"
   ]
  },
  {
   "cell_type": "code",
   "execution_count": 20,
   "id": "72c28780",
   "metadata": {},
   "outputs": [
    {
     "data": {
      "text/plain": [
       "<AxesSubplot:xlabel='High Developed Cells in County', ylabel='POP100'>"
      ]
     },
     "execution_count": 20,
     "metadata": {},
     "output_type": "execute_result"
    },
    {
     "data": {
      "image/png": "[encoded data removed]",
      "text/plain": [
       "<Figure size 432x288 with 1 Axes>"
      ]
     },
     "metadata": {
      "needs_background": "light"
     },
     "output_type": "display_data"
    }
   ],
   "source": [
    "#Q15: What is the Relationship Between POP100 and developed_high?\n",
    "\n",
    "fig,ax = plt.subplots()\n",
    "counties.plot.scatter(ax = ax, x = \"High Developed Cells in County\", y = \"POP100\")"
   ]
  },
  {
   "cell_type": "code",
   "execution_count": 21,
   "id": "81c18778",
   "metadata": {},
   "outputs": [],
   "source": [
    "tracts = gpd.read_file(\"tracts.geojson\")"
   ]
  },
  {
   "cell_type": "code",
   "execution_count": 22,
   "id": "f70aa07f",
   "metadata": {},
   "outputs": [],
   "source": [
    "q16_low = []\n",
    "q16_med = []\n",
    "q16_high = []\n",
    "for row in tracts.itertuples():\n",
    "    matrix, _ = mask(land, tracts[tracts[\"GEOID\"] == row.GEOID].to_crs(land.crs)[\"geometry\"], crop=True)\n",
    "    matrix = matrix[0]\n",
    "    low = matrix[matrix == 22]\n",
    "    med = matrix[matrix == 23]\n",
    "    high = matrix[matrix == 24]\n",
    "    q16_low.append(len(low))\n",
    "    q16_med.append(len(med))\n",
    "    q16_high.append(len(high))\n",
    "tracts[\"Developed Low\"] = q16_low\n",
    "tracts[\"Developed Med\"] = q16_med\n",
    "tracts[\"Developed High\"] = q16_high"
   ]
  },
  {
   "cell_type": "code",
   "execution_count": 23,
   "id": "d0471166",
   "metadata": {},
   "outputs": [],
   "source": [
    "train_f, test_f = train_test_split(tracts, random_state=320)"
   ]
  },
  {
   "cell_type": "code",
   "execution_count": 24,
   "id": "a7e0b251",
   "metadata": {},
   "outputs": [
    {
     "data": {
      "text/plain": [
       "0.3827922254716966"
      ]
     },
     "execution_count": 24,
     "metadata": {},
     "output_type": "execute_result"
    }
   ],
   "source": [
    "m1 = LinearRegression()\n",
    "score1 = cross_val_score(m1, train_f[[\"Developed Med\"]], train_f[\"POP100\"])\n",
    "score1.mean()"
   ]
  },
  {
   "cell_type": "code",
   "execution_count": 25,
   "id": "7f08bc53",
   "metadata": {},
   "outputs": [
    {
     "data": {
      "text/plain": [
       "0.41621273220980004"
      ]
     },
     "execution_count": 25,
     "metadata": {},
     "output_type": "execute_result"
    }
   ],
   "source": [
    "m2 = Pipeline([\n",
    "    (\"poly\", PolynomialFeatures(degree=2, include_bias=False)),\n",
    "    (\"lr\", LinearRegression())\n",
    "])\n",
    "score2 = cross_val_score(m2, train_f[[\"Developed Med\"]], train_f[\"POP100\"])\n",
    "score2.mean()"
   ]
  },
  {
   "cell_type": "code",
   "execution_count": 26,
   "id": "841c53a1",
   "metadata": {},
   "outputs": [
    {
     "data": {
      "text/plain": [
       "0.4503306392821365"
      ]
     },
     "execution_count": 26,
     "metadata": {},
     "output_type": "execute_result"
    }
   ],
   "source": [
    "cols = [\"Developed Low\", \"Developed Med\", \"Developed High\"]\n",
    "m3 = Pipeline([\n",
    "    (\"poly\", PolynomialFeatures(degree=2, include_bias=False)),\n",
    "    (\"lr\", LinearRegression())\n",
    "])\n",
    "score3 = cross_val_score(m3, train_f[cols], train_f[\"POP100\"])\n",
    "score3.mean()\n",
    "\n",
    "# I am using this model because:\n",
    "# 1. It has a higher explained variance score than the previous models\n",
    "# 2. Even though the standard deviation is slightly larger, it is only by a marginal amount compared to the other models and gaining over 3% explained variance is worth the trade off\n",
    "# 3. It is slightly more complex, but adding these additional columns to the dataframe doesn't take much longer. It's also essentially 1 more line of code to create the model than the previous ones"
   ]
  },
  {
   "cell_type": "code",
   "execution_count": 27,
   "id": "aab23b5a",
   "metadata": {},
   "outputs": [
    {
     "data": {
      "text/plain": [
       "Text(0, 0.5, 'R^2 Score')"
      ]
     },
     "execution_count": 27,
     "metadata": {},
     "output_type": "execute_result"
    },
    {
     "data": {
      "image/png": "[encoded data removed]",
      "text/plain": [
       "<Figure size 432x288 with 1 Axes>"
      ]
     },
     "metadata": {
      "needs_background": "light"
     },
     "output_type": "display_data"
    }
   ],
   "source": [
    "#Q16: How do the models you selected compare under cross validation?\n",
    "\n",
    "avg = pd.Series({\"Developed Med LR\": score1.mean(), \"Developed Med Poly\": score2.mean(), \"Developed All Poly\": score3.mean()})\n",
    "std = pd.Series({\"Developed Med LR\": score1.std(), \"Developed Med Poly\": score2.std(), \"Developed All Poly\": score3.std()})\n",
    "ax = avg.plot.bar(yerr=std)\n",
    "ax.set_ylabel(\"R^2 Score\")"
   ]
  },
  {
   "cell_type": "code",
   "execution_count": 28,
   "id": "3926f9fb",
   "metadata": {},
   "outputs": [
    {
     "data": {
      "text/plain": [
       "0.4037735663122235"
      ]
     },
     "execution_count": 28,
     "metadata": {},
     "output_type": "execute_result"
    }
   ],
   "source": [
    "#Q17: How does your recommended model score against the test dataset?\n",
    "\n",
    "final_score = cross_val_score(m3, test_f[cols], test_f[\"POP100\"])\n",
    "final_score.mean()"
   ]
  }
 ],
 "metadata": {
  "kernelspec": {
   "display_name": "Python 3 (ipykernel)",
   "language": "python",
   "name": "python3"
  },
  "language_info": {
   "codemirror_mode": {
    "name": "ipython",
    "version": 3
   },
   "file_extension": ".py",
   "mimetype": "text/x-python",
   "name": "python",
   "nbconvert_exporter": "python",
   "pygments_lexer": "ipython3",
   "version": "3.8.10"
  }
 },
 "nbformat": 4,
 "nbformat_minor": 5
}
